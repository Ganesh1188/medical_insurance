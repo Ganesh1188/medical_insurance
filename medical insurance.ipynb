{
 "cells": [
  {
   "cell_type": "code",
   "execution_count": 35,
   "id": "34520b10",
   "metadata": {},
   "outputs": [],
   "source": [
    "import numpy as np\n",
    "import pandas as pd\n",
    "import matplotlib.pyplot as plt\n",
    "import seaborn as sns"
   ]
  },
  {
   "cell_type": "code",
   "execution_count": 36,
   "id": "7356a5f3",
   "metadata": {},
   "outputs": [
    {
     "data": {
      "text/html": [
       "<div>\n",
       "<style scoped>\n",
       "    .dataframe tbody tr th:only-of-type {\n",
       "        vertical-align: middle;\n",
       "    }\n",
       "\n",
       "    .dataframe tbody tr th {\n",
       "        vertical-align: top;\n",
       "    }\n",
       "\n",
       "    .dataframe thead th {\n",
       "        text-align: right;\n",
       "    }\n",
       "</style>\n",
       "<table border=\"1\" class=\"dataframe\">\n",
       "  <thead>\n",
       "    <tr style=\"text-align: right;\">\n",
       "      <th></th>\n",
       "      <th>age</th>\n",
       "      <th>sex</th>\n",
       "      <th>bmi</th>\n",
       "      <th>children</th>\n",
       "      <th>smoker</th>\n",
       "      <th>region</th>\n",
       "      <th>charges</th>\n",
       "    </tr>\n",
       "  </thead>\n",
       "  <tbody>\n",
       "    <tr>\n",
       "      <th>0</th>\n",
       "      <td>19</td>\n",
       "      <td>female</td>\n",
       "      <td>27.900</td>\n",
       "      <td>0</td>\n",
       "      <td>yes</td>\n",
       "      <td>southwest</td>\n",
       "      <td>16884.92400</td>\n",
       "    </tr>\n",
       "    <tr>\n",
       "      <th>1</th>\n",
       "      <td>18</td>\n",
       "      <td>male</td>\n",
       "      <td>33.770</td>\n",
       "      <td>1</td>\n",
       "      <td>no</td>\n",
       "      <td>southeast</td>\n",
       "      <td>1725.55230</td>\n",
       "    </tr>\n",
       "    <tr>\n",
       "      <th>2</th>\n",
       "      <td>28</td>\n",
       "      <td>male</td>\n",
       "      <td>33.000</td>\n",
       "      <td>3</td>\n",
       "      <td>no</td>\n",
       "      <td>southeast</td>\n",
       "      <td>4449.46200</td>\n",
       "    </tr>\n",
       "    <tr>\n",
       "      <th>3</th>\n",
       "      <td>33</td>\n",
       "      <td>male</td>\n",
       "      <td>22.705</td>\n",
       "      <td>0</td>\n",
       "      <td>no</td>\n",
       "      <td>northwest</td>\n",
       "      <td>21984.47061</td>\n",
       "    </tr>\n",
       "    <tr>\n",
       "      <th>4</th>\n",
       "      <td>32</td>\n",
       "      <td>male</td>\n",
       "      <td>28.880</td>\n",
       "      <td>0</td>\n",
       "      <td>no</td>\n",
       "      <td>northwest</td>\n",
       "      <td>3866.85520</td>\n",
       "    </tr>\n",
       "    <tr>\n",
       "      <th>...</th>\n",
       "      <td>...</td>\n",
       "      <td>...</td>\n",
       "      <td>...</td>\n",
       "      <td>...</td>\n",
       "      <td>...</td>\n",
       "      <td>...</td>\n",
       "      <td>...</td>\n",
       "    </tr>\n",
       "    <tr>\n",
       "      <th>1333</th>\n",
       "      <td>50</td>\n",
       "      <td>male</td>\n",
       "      <td>30.970</td>\n",
       "      <td>3</td>\n",
       "      <td>no</td>\n",
       "      <td>northwest</td>\n",
       "      <td>10600.54830</td>\n",
       "    </tr>\n",
       "    <tr>\n",
       "      <th>1334</th>\n",
       "      <td>18</td>\n",
       "      <td>female</td>\n",
       "      <td>31.920</td>\n",
       "      <td>0</td>\n",
       "      <td>no</td>\n",
       "      <td>northeast</td>\n",
       "      <td>2205.98080</td>\n",
       "    </tr>\n",
       "    <tr>\n",
       "      <th>1335</th>\n",
       "      <td>18</td>\n",
       "      <td>female</td>\n",
       "      <td>36.850</td>\n",
       "      <td>0</td>\n",
       "      <td>no</td>\n",
       "      <td>southeast</td>\n",
       "      <td>1629.83350</td>\n",
       "    </tr>\n",
       "    <tr>\n",
       "      <th>1336</th>\n",
       "      <td>21</td>\n",
       "      <td>female</td>\n",
       "      <td>25.800</td>\n",
       "      <td>0</td>\n",
       "      <td>no</td>\n",
       "      <td>southwest</td>\n",
       "      <td>2007.94500</td>\n",
       "    </tr>\n",
       "    <tr>\n",
       "      <th>1337</th>\n",
       "      <td>61</td>\n",
       "      <td>female</td>\n",
       "      <td>29.070</td>\n",
       "      <td>0</td>\n",
       "      <td>yes</td>\n",
       "      <td>northwest</td>\n",
       "      <td>29141.36030</td>\n",
       "    </tr>\n",
       "  </tbody>\n",
       "</table>\n",
       "<p>1338 rows × 7 columns</p>\n",
       "</div>"
      ],
      "text/plain": [
       "      age     sex     bmi  children smoker     region      charges\n",
       "0      19  female  27.900         0    yes  southwest  16884.92400\n",
       "1      18    male  33.770         1     no  southeast   1725.55230\n",
       "2      28    male  33.000         3     no  southeast   4449.46200\n",
       "3      33    male  22.705         0     no  northwest  21984.47061\n",
       "4      32    male  28.880         0     no  northwest   3866.85520\n",
       "...   ...     ...     ...       ...    ...        ...          ...\n",
       "1333   50    male  30.970         3     no  northwest  10600.54830\n",
       "1334   18  female  31.920         0     no  northeast   2205.98080\n",
       "1335   18  female  36.850         0     no  southeast   1629.83350\n",
       "1336   21  female  25.800         0     no  southwest   2007.94500\n",
       "1337   61  female  29.070         0    yes  northwest  29141.36030\n",
       "\n",
       "[1338 rows x 7 columns]"
      ]
     },
     "execution_count": 36,
     "metadata": {},
     "output_type": "execute_result"
    }
   ],
   "source": [
    "df= pd.read_csv(\"C:\\\\118\\\\ML-projects\\\\Medical-Cost-Prediction-master\\\\insurance.csv\")\n",
    "df"
   ]
  },
  {
   "cell_type": "code",
   "execution_count": 37,
   "id": "d7347cbc",
   "metadata": {},
   "outputs": [
    {
     "name": "stdout",
     "output_type": "stream",
     "text": [
      "<class 'pandas.core.frame.DataFrame'>\n",
      "RangeIndex: 1338 entries, 0 to 1337\n",
      "Data columns (total 7 columns):\n",
      " #   Column    Non-Null Count  Dtype  \n",
      "---  ------    --------------  -----  \n",
      " 0   age       1338 non-null   int64  \n",
      " 1   sex       1338 non-null   object \n",
      " 2   bmi       1338 non-null   float64\n",
      " 3   children  1338 non-null   int64  \n",
      " 4   smoker    1338 non-null   object \n",
      " 5   region    1338 non-null   object \n",
      " 6   charges   1338 non-null   float64\n",
      "dtypes: float64(2), int64(2), object(3)\n",
      "memory usage: 73.3+ KB\n"
     ]
    }
   ],
   "source": [
    "df.info()"
   ]
  },
  {
   "cell_type": "code",
   "execution_count": 38,
   "id": "281d6809",
   "metadata": {},
   "outputs": [
    {
     "data": {
      "text/plain": [
       "Index(['age', 'sex', 'bmi', 'children', 'smoker', 'region', 'charges'], dtype='object')"
      ]
     },
     "execution_count": 38,
     "metadata": {},
     "output_type": "execute_result"
    }
   ],
   "source": [
    "df.columns"
   ]
  },
  {
   "cell_type": "code",
   "execution_count": 39,
   "id": "83d7fe8e",
   "metadata": {},
   "outputs": [],
   "source": [
    "clean_df = {'sex': {'male' : 0 , 'female' : 1} ,\n",
    "                 'smoker': {'no': 0 , 'yes' : 1},\n",
    "                   'region' : {'northwest':0, 'northeast':1,'southeast':2,'southwest':3}\n",
    "               }\n",
    "df_copy = df.copy()\n",
    "df_copy.replace(clean_df, inplace=True)"
   ]
  },
  {
   "cell_type": "code",
   "execution_count": 40,
   "id": "6f0b2160",
   "metadata": {},
   "outputs": [
    {
     "data": {
      "text/html": [
       "<div>\n",
       "<style scoped>\n",
       "    .dataframe tbody tr th:only-of-type {\n",
       "        vertical-align: middle;\n",
       "    }\n",
       "\n",
       "    .dataframe tbody tr th {\n",
       "        vertical-align: top;\n",
       "    }\n",
       "\n",
       "    .dataframe thead th {\n",
       "        text-align: right;\n",
       "    }\n",
       "</style>\n",
       "<table border=\"1\" class=\"dataframe\">\n",
       "  <thead>\n",
       "    <tr style=\"text-align: right;\">\n",
       "      <th></th>\n",
       "      <th>age</th>\n",
       "      <th>sex</th>\n",
       "      <th>bmi</th>\n",
       "      <th>children</th>\n",
       "      <th>smoker</th>\n",
       "      <th>region</th>\n",
       "      <th>charges</th>\n",
       "    </tr>\n",
       "  </thead>\n",
       "  <tbody>\n",
       "    <tr>\n",
       "      <th>0</th>\n",
       "      <td>19</td>\n",
       "      <td>1</td>\n",
       "      <td>27.900</td>\n",
       "      <td>0</td>\n",
       "      <td>1</td>\n",
       "      <td>3</td>\n",
       "      <td>16884.92400</td>\n",
       "    </tr>\n",
       "    <tr>\n",
       "      <th>1</th>\n",
       "      <td>18</td>\n",
       "      <td>0</td>\n",
       "      <td>33.770</td>\n",
       "      <td>1</td>\n",
       "      <td>0</td>\n",
       "      <td>2</td>\n",
       "      <td>1725.55230</td>\n",
       "    </tr>\n",
       "    <tr>\n",
       "      <th>2</th>\n",
       "      <td>28</td>\n",
       "      <td>0</td>\n",
       "      <td>33.000</td>\n",
       "      <td>3</td>\n",
       "      <td>0</td>\n",
       "      <td>2</td>\n",
       "      <td>4449.46200</td>\n",
       "    </tr>\n",
       "    <tr>\n",
       "      <th>3</th>\n",
       "      <td>33</td>\n",
       "      <td>0</td>\n",
       "      <td>22.705</td>\n",
       "      <td>0</td>\n",
       "      <td>0</td>\n",
       "      <td>0</td>\n",
       "      <td>21984.47061</td>\n",
       "    </tr>\n",
       "    <tr>\n",
       "      <th>4</th>\n",
       "      <td>32</td>\n",
       "      <td>0</td>\n",
       "      <td>28.880</td>\n",
       "      <td>0</td>\n",
       "      <td>0</td>\n",
       "      <td>0</td>\n",
       "      <td>3866.85520</td>\n",
       "    </tr>\n",
       "    <tr>\n",
       "      <th>...</th>\n",
       "      <td>...</td>\n",
       "      <td>...</td>\n",
       "      <td>...</td>\n",
       "      <td>...</td>\n",
       "      <td>...</td>\n",
       "      <td>...</td>\n",
       "      <td>...</td>\n",
       "    </tr>\n",
       "    <tr>\n",
       "      <th>1333</th>\n",
       "      <td>50</td>\n",
       "      <td>0</td>\n",
       "      <td>30.970</td>\n",
       "      <td>3</td>\n",
       "      <td>0</td>\n",
       "      <td>0</td>\n",
       "      <td>10600.54830</td>\n",
       "    </tr>\n",
       "    <tr>\n",
       "      <th>1334</th>\n",
       "      <td>18</td>\n",
       "      <td>1</td>\n",
       "      <td>31.920</td>\n",
       "      <td>0</td>\n",
       "      <td>0</td>\n",
       "      <td>1</td>\n",
       "      <td>2205.98080</td>\n",
       "    </tr>\n",
       "    <tr>\n",
       "      <th>1335</th>\n",
       "      <td>18</td>\n",
       "      <td>1</td>\n",
       "      <td>36.850</td>\n",
       "      <td>0</td>\n",
       "      <td>0</td>\n",
       "      <td>2</td>\n",
       "      <td>1629.83350</td>\n",
       "    </tr>\n",
       "    <tr>\n",
       "      <th>1336</th>\n",
       "      <td>21</td>\n",
       "      <td>1</td>\n",
       "      <td>25.800</td>\n",
       "      <td>0</td>\n",
       "      <td>0</td>\n",
       "      <td>3</td>\n",
       "      <td>2007.94500</td>\n",
       "    </tr>\n",
       "    <tr>\n",
       "      <th>1337</th>\n",
       "      <td>61</td>\n",
       "      <td>1</td>\n",
       "      <td>29.070</td>\n",
       "      <td>0</td>\n",
       "      <td>1</td>\n",
       "      <td>0</td>\n",
       "      <td>29141.36030</td>\n",
       "    </tr>\n",
       "  </tbody>\n",
       "</table>\n",
       "<p>1338 rows × 7 columns</p>\n",
       "</div>"
      ],
      "text/plain": [
       "      age  sex     bmi  children  smoker  region      charges\n",
       "0      19    1  27.900         0       1       3  16884.92400\n",
       "1      18    0  33.770         1       0       2   1725.55230\n",
       "2      28    0  33.000         3       0       2   4449.46200\n",
       "3      33    0  22.705         0       0       0  21984.47061\n",
       "4      32    0  28.880         0       0       0   3866.85520\n",
       "...   ...  ...     ...       ...     ...     ...          ...\n",
       "1333   50    0  30.970         3       0       0  10600.54830\n",
       "1334   18    1  31.920         0       0       1   2205.98080\n",
       "1335   18    1  36.850         0       0       2   1629.83350\n",
       "1336   21    1  25.800         0       0       3   2007.94500\n",
       "1337   61    1  29.070         0       1       0  29141.36030\n",
       "\n",
       "[1338 rows x 7 columns]"
      ]
     },
     "execution_count": 40,
     "metadata": {},
     "output_type": "execute_result"
    }
   ],
   "source": [
    "df_copy"
   ]
  },
  {
   "cell_type": "code",
   "execution_count": 46,
   "id": "82933c02",
   "metadata": {},
   "outputs": [
    {
     "data": {
      "text/html": [
       "<div>\n",
       "<style scoped>\n",
       "    .dataframe tbody tr th:only-of-type {\n",
       "        vertical-align: middle;\n",
       "    }\n",
       "\n",
       "    .dataframe tbody tr th {\n",
       "        vertical-align: top;\n",
       "    }\n",
       "\n",
       "    .dataframe thead th {\n",
       "        text-align: right;\n",
       "    }\n",
       "</style>\n",
       "<table border=\"1\" class=\"dataframe\">\n",
       "  <thead>\n",
       "    <tr style=\"text-align: right;\">\n",
       "      <th></th>\n",
       "      <th>age</th>\n",
       "      <th>sex</th>\n",
       "      <th>bmi</th>\n",
       "      <th>children</th>\n",
       "      <th>smoker</th>\n",
       "      <th>region</th>\n",
       "    </tr>\n",
       "  </thead>\n",
       "  <tbody>\n",
       "    <tr>\n",
       "      <th>0</th>\n",
       "      <td>19</td>\n",
       "      <td>1</td>\n",
       "      <td>27.900</td>\n",
       "      <td>0</td>\n",
       "      <td>1</td>\n",
       "      <td>3</td>\n",
       "    </tr>\n",
       "    <tr>\n",
       "      <th>1</th>\n",
       "      <td>18</td>\n",
       "      <td>0</td>\n",
       "      <td>33.770</td>\n",
       "      <td>1</td>\n",
       "      <td>0</td>\n",
       "      <td>2</td>\n",
       "    </tr>\n",
       "    <tr>\n",
       "      <th>2</th>\n",
       "      <td>28</td>\n",
       "      <td>0</td>\n",
       "      <td>33.000</td>\n",
       "      <td>3</td>\n",
       "      <td>0</td>\n",
       "      <td>2</td>\n",
       "    </tr>\n",
       "    <tr>\n",
       "      <th>3</th>\n",
       "      <td>33</td>\n",
       "      <td>0</td>\n",
       "      <td>22.705</td>\n",
       "      <td>0</td>\n",
       "      <td>0</td>\n",
       "      <td>0</td>\n",
       "    </tr>\n",
       "    <tr>\n",
       "      <th>4</th>\n",
       "      <td>32</td>\n",
       "      <td>0</td>\n",
       "      <td>28.880</td>\n",
       "      <td>0</td>\n",
       "      <td>0</td>\n",
       "      <td>0</td>\n",
       "    </tr>\n",
       "    <tr>\n",
       "      <th>...</th>\n",
       "      <td>...</td>\n",
       "      <td>...</td>\n",
       "      <td>...</td>\n",
       "      <td>...</td>\n",
       "      <td>...</td>\n",
       "      <td>...</td>\n",
       "    </tr>\n",
       "    <tr>\n",
       "      <th>1333</th>\n",
       "      <td>50</td>\n",
       "      <td>0</td>\n",
       "      <td>30.970</td>\n",
       "      <td>3</td>\n",
       "      <td>0</td>\n",
       "      <td>0</td>\n",
       "    </tr>\n",
       "    <tr>\n",
       "      <th>1334</th>\n",
       "      <td>18</td>\n",
       "      <td>1</td>\n",
       "      <td>31.920</td>\n",
       "      <td>0</td>\n",
       "      <td>0</td>\n",
       "      <td>1</td>\n",
       "    </tr>\n",
       "    <tr>\n",
       "      <th>1335</th>\n",
       "      <td>18</td>\n",
       "      <td>1</td>\n",
       "      <td>36.850</td>\n",
       "      <td>0</td>\n",
       "      <td>0</td>\n",
       "      <td>2</td>\n",
       "    </tr>\n",
       "    <tr>\n",
       "      <th>1336</th>\n",
       "      <td>21</td>\n",
       "      <td>1</td>\n",
       "      <td>25.800</td>\n",
       "      <td>0</td>\n",
       "      <td>0</td>\n",
       "      <td>3</td>\n",
       "    </tr>\n",
       "    <tr>\n",
       "      <th>1337</th>\n",
       "      <td>61</td>\n",
       "      <td>1</td>\n",
       "      <td>29.070</td>\n",
       "      <td>0</td>\n",
       "      <td>1</td>\n",
       "      <td>0</td>\n",
       "    </tr>\n",
       "  </tbody>\n",
       "</table>\n",
       "<p>1338 rows × 6 columns</p>\n",
       "</div>"
      ],
      "text/plain": [
       "      age  sex     bmi  children  smoker  region\n",
       "0      19    1  27.900         0       1       3\n",
       "1      18    0  33.770         1       0       2\n",
       "2      28    0  33.000         3       0       2\n",
       "3      33    0  22.705         0       0       0\n",
       "4      32    0  28.880         0       0       0\n",
       "...   ...  ...     ...       ...     ...     ...\n",
       "1333   50    0  30.970         3       0       0\n",
       "1334   18    1  31.920         0       0       1\n",
       "1335   18    1  36.850         0       0       2\n",
       "1336   21    1  25.800         0       0       3\n",
       "1337   61    1  29.070         0       1       0\n",
       "\n",
       "[1338 rows x 6 columns]"
      ]
     },
     "execution_count": 46,
     "metadata": {},
     "output_type": "execute_result"
    }
   ],
   "source": [
    "x =df_copy.drop(['charges'], axis = 'columns')\n",
    "x"
   ]
  },
  {
   "cell_type": "code",
   "execution_count": 47,
   "id": "42305bb3",
   "metadata": {},
   "outputs": [
    {
     "data": {
      "text/plain": [
       "0       16884.92400\n",
       "1        1725.55230\n",
       "2        4449.46200\n",
       "3       21984.47061\n",
       "4        3866.85520\n",
       "           ...     \n",
       "1333    10600.54830\n",
       "1334     2205.98080\n",
       "1335     1629.83350\n",
       "1336     2007.94500\n",
       "1337    29141.36030\n",
       "Name: charges, Length: 1338, dtype: float64"
      ]
     },
     "execution_count": 47,
     "metadata": {},
     "output_type": "execute_result"
    }
   ],
   "source": [
    "y = df_copy.charges\n",
    "y"
   ]
  },
  {
   "cell_type": "code",
   "execution_count": 48,
   "id": "74523fd6",
   "metadata": {},
   "outputs": [],
   "source": [
    "from sklearn.model_selection import train_test_split\n",
    "x_train, x_test, y_train, y_test = train_test_split (x, y, test_size=0.3,random_state = 0)"
   ]
  },
  {
   "cell_type": "code",
   "execution_count": 55,
   "id": "7892cae4",
   "metadata": {},
   "outputs": [],
   "source": [
    "from sklearn.linear_model import LinearRegression\n",
    "lr=LinearRegression()"
   ]
  },
  {
   "cell_type": "code",
   "execution_count": 56,
   "id": "089c38b7",
   "metadata": {},
   "outputs": [
    {
     "data": {
      "text/plain": [
       "LinearRegression()"
      ]
     },
     "execution_count": 56,
     "metadata": {},
     "output_type": "execute_result"
    }
   ],
   "source": [
    "lr.fit(x_train,y_train)"
   ]
  },
  {
   "cell_type": "code",
   "execution_count": 57,
   "id": "831108f6",
   "metadata": {},
   "outputs": [
    {
     "data": {
      "text/plain": [
       "0.7906265855205846"
      ]
     },
     "execution_count": 57,
     "metadata": {},
     "output_type": "execute_result"
    }
   ],
   "source": [
    "lr.score(x_test,y_test)"
   ]
  },
  {
   "cell_type": "code",
   "execution_count": 58,
   "id": "54d7c19b",
   "metadata": {},
   "outputs": [
    {
     "data": {
      "text/plain": [
       "array([ 1.12218313e+04,  9.87165913e+03,  3.79531489e+04,  1.62194596e+04,\n",
       "        7.06241882e+03,  3.57127481e+03,  1.11123647e+03,  1.44626351e+04,\n",
       "        9.10781584e+03,  7.54545842e+03,  4.26091809e+03,  1.04172803e+04,\n",
       "        8.85255976e+03,  4.14930158e+03,  2.76735274e+04,  1.11963408e+04,\n",
       "        1.13781943e+04,  5.61304555e+03,  8.28215390e+03,  2.64229270e+04,\n",
       "        3.35824886e+04,  1.44374613e+04,  1.13372571e+04,  3.23101626e+04,\n",
       "        4.36443711e+03,  8.73496548e+03,  7.39023036e+02,  1.02040452e+04,\n",
       "        4.10147643e+03,  1.04840787e+04,  9.12629671e+03,  4.01664674e+04,\n",
       "        1.56656948e+04,  1.38338339e+04,  2.41786718e+04,  4.72224226e+03,\n",
       "        1.29160138e+04,  3.04891097e+04,  3.33988177e+04,  3.57523535e+03,\n",
       "        3.63162769e+03,  4.26283589e+03,  2.99127687e+04,  3.93464830e+04,\n",
       "        2.77970508e+04,  5.06948669e+03,  1.10887451e+04,  7.87604542e+03,\n",
       "        3.24489234e+03,  1.06846286e+04,  5.18412604e+03,  3.48073235e+03,\n",
       "        3.28910418e+04,  3.79303600e+04,  1.63136532e+04,  6.61328404e+03,\n",
       "        5.93056191e+03,  9.48926785e+03,  9.44253665e+03,  1.18522390e+04,\n",
       "        1.77650797e+03,  3.88663049e+04,  1.53387701e+04,  1.18665027e+04,\n",
       "        1.37121437e+04,  1.40389090e+04,  2.58603014e+04,  3.20442281e+04,\n",
       "        1.22391698e+03,  1.02708834e+04,  1.24508926e+04,  1.19339049e+04,\n",
       "        2.49917394e+04,  1.59490355e+04,  1.13271427e+04,  1.23094416e+04,\n",
       "        6.62979128e+03,  9.96310490e+03,  2.96358416e+04,  3.89387121e+04,\n",
       "        1.16839641e+04,  3.72715100e+04,  4.15071466e+03,  9.42257518e+03,\n",
       "        3.42026664e+04,  2.90500042e+04,  8.55853240e+03,  4.83814129e+03,\n",
       "        1.21407589e+04,  3.01704858e+04,  9.66297794e+03,  1.14210820e+04,\n",
       "        7.80446645e+03,  9.32951746e+03,  7.90770739e+03,  6.88739187e+03,\n",
       "        3.54192073e+04,  3.30542448e+04,  7.67082702e+03,  1.50690132e+04,\n",
       "        4.22695614e+03,  8.78081288e+03,  6.64556147e+03,  3.15928021e+04,\n",
       "        3.28892613e+04,  2.00862352e+03,  9.13494758e+03,  6.60209268e+03,\n",
       "        1.41385344e+04,  3.70664643e+04,  1.03707455e+04,  1.07760163e+04,\n",
       "        1.02964489e+04,  2.62495735e+04,  3.99751813e+04,  8.12438287e+03,\n",
       "        3.23070625e+02,  9.05994212e+03,  1.52708155e+04,  9.66643412e+03,\n",
       "        3.53163057e+04,  7.41237895e+03,  1.69715493e+04,  9.19995632e+03,\n",
       "        8.32708219e+03,  3.06811743e+03,  3.23920545e+04,  3.14207787e+04,\n",
       "        3.93814020e+04,  5.44240400e+03,  9.71805506e+03,  3.81033552e+03,\n",
       "        7.98871268e+03,  8.28161640e+03,  3.15268727e+04,  2.97314181e+04,\n",
       "        2.99430160e+04,  9.21595633e+03,  3.27124914e+04,  3.33307007e+03,\n",
       "        3.61656447e+03,  1.11771195e+04,  1.34719322e+04,  1.24289487e+04,\n",
       "        5.47903306e+03,  1.59191502e+04,  1.52873382e+04,  2.48610801e+03,\n",
       "        3.38241008e+00,  1.05179555e+04,  7.03575803e+03,  3.17900391e+04,\n",
       "        1.19770111e+04,  2.59091764e+03,  6.34250863e+03,  8.21586399e+03,\n",
       "        4.37696326e+03,  2.37572625e+03,  1.15108154e+04,  1.26291513e+04,\n",
       "        6.84914614e+03,  1.66543534e+04,  1.19156586e+04,  1.40622465e+04,\n",
       "        2.82030299e+03,  6.89280084e+03,  2.29507085e+04,  7.23772507e+03,\n",
       "        5.07073187e+03,  5.35075055e+03,  6.72470676e+03,  4.80464139e+03,\n",
       "        1.00738266e+04,  5.55994968e+03,  5.77661095e+03,  6.99586059e+03,\n",
       "        3.34883902e+03,  5.64913330e+03,  3.75907172e+04,  1.00741542e+03,\n",
       "        1.27278755e+04,  9.02572888e+03,  1.37664854e+04,  5.61375479e+03,\n",
       "        4.86008400e+03,  3.59175336e+04,  3.86305834e+03,  2.05658849e+03,\n",
       "        1.52668938e+04,  1.23195744e+04,  3.45057186e+04,  5.12726182e+03,\n",
       "        5.74911344e+03,  3.14135050e+04,  6.06788159e+03,  2.11615295e+03,\n",
       "        8.04720618e+03,  9.64124386e+03,  8.25947009e+03,  5.79203146e+03,\n",
       "        1.27899928e+04,  3.86105003e+04,  1.38397050e+04,  2.87848095e+04,\n",
       "        6.77416215e+03,  3.56534259e+04,  3.38306676e+03,  1.21831303e+04,\n",
       "        9.37731357e+03,  6.34897026e+03,  1.13696596e+04,  1.41863936e+04,\n",
       "        5.26749477e+03,  4.37894985e+03,  7.93796226e+03,  1.33363880e+03,\n",
       "        7.52082590e+03,  4.07795113e+03,  1.34020743e+04,  4.00044176e+03,\n",
       "        1.01283053e+04,  6.93995432e+03,  9.33765036e+03,  1.98125699e+03,\n",
       "        1.32774159e+04,  1.68356967e+04,  1.53130603e+04,  1.07016402e+04,\n",
       "        5.77465498e+03,  2.51738493e+03,  2.15273813e+03,  1.30149170e+04,\n",
       "        1.43829107e+04,  4.64906492e+03,  4.15111835e+03,  9.52056872e+03,\n",
       "        9.63709837e+03,  2.75749714e+04,  7.24168217e+03,  1.02192943e+04,\n",
       "        6.34342271e+03,  2.96194944e+04,  1.11600738e+04,  7.13448227e+03,\n",
       "        1.03201522e+04,  1.22831483e+04,  2.60271658e+03,  1.08697371e+04,\n",
       "        1.11722369e+03,  6.68088762e+03,  2.85939116e+04,  3.86319070e+04,\n",
       "        6.35898713e+03,  8.37722123e+03,  2.04047202e+03, -1.47436861e+01,\n",
       "        1.05637416e+04,  4.38238928e+03,  5.05245583e+03,  2.72247451e+03,\n",
       "        7.32285443e+03,  3.33165679e+04,  3.76521066e+04,  1.48955726e+04,\n",
       "        8.30044824e+03,  1.56470454e+04,  3.30209286e+04,  9.19293068e+03,\n",
       "        3.34746637e+04,  3.55148217e+03,  3.01353929e+04,  8.18538217e+03,\n",
       "        1.38491137e+04,  4.17721287e+03,  3.23179035e+04,  7.95900636e+03,\n",
       "        1.15435360e+04,  9.56209226e+03,  4.20360980e+03,  1.28309246e+04,\n",
       "        1.18352287e+04,  8.44315986e+03,  1.29490090e+04,  2.35021721e+03,\n",
       "        1.01842614e+04,  5.53097877e+03,  1.13254809e+04,  3.10851375e+04,\n",
       "        1.00269951e+04,  7.90593793e+02,  5.79777674e+02,  3.93358147e+04,\n",
       "        9.35667064e+03,  7.16580776e+03,  1.40875011e+04,  1.30780039e+04,\n",
       "        2.71415162e+04,  7.26633111e+03,  6.95002363e+03,  1.21899987e+04,\n",
       "        2.88401262e+03,  3.93768787e+03,  2.45567263e+04,  2.61652045e+04,\n",
       "        1.34324893e+04,  2.83764601e+03,  5.14935036e+03,  9.49033625e+03,\n",
       "        1.20697481e+04,  2.30081466e+04,  3.07309912e+04,  1.01647115e+04,\n",
       "        2.39337741e+04,  2.89491012e+03,  1.15733923e+04,  7.59233702e+03,\n",
       "        7.91483245e+03,  3.75069995e+02,  7.40235545e+03,  3.54922183e+04,\n",
       "        5.78225538e+03,  5.88097963e+03,  2.93050568e+02,  1.09457993e+04,\n",
       "        6.77940890e+03,  1.00731029e+04,  3.89365749e+04,  2.75962045e+04,\n",
       "        1.11531927e+04,  3.55237003e+04,  1.46856122e+04,  6.89806022e+03,\n",
       "        1.10731248e+04,  6.96558805e+03,  3.66404903e+04,  6.08784087e+03,\n",
       "        1.07699562e+04,  9.13757706e+02,  2.42583527e+04,  1.99938308e+03,\n",
       "        3.44358128e+04,  1.13940929e+04,  1.90805569e+03,  3.16437173e+04,\n",
       "        6.78522124e+03,  5.37288296e+03,  3.80122484e+04,  2.33078882e+03,\n",
       "        9.25813293e+03,  2.74799396e+03,  1.29430533e+04,  1.18985749e+03,\n",
       "        1.11227232e+04,  7.12555935e+03,  3.60202168e+04,  7.34876023e+03,\n",
       "        3.05462415e+04,  2.95084265e+04,  7.15780557e+03,  1.04355377e+04,\n",
       "        1.98575159e+03,  2.37485385e+03,  3.87397412e+03,  1.27944874e+04,\n",
       "        3.70958196e+04,  9.91366026e+03,  5.14189730e+02,  1.10812975e+04,\n",
       "        5.11258179e+03,  9.93594038e+03,  5.23809812e+03,  7.27550085e+03,\n",
       "        4.36028844e+03,  2.83739668e+04,  4.06073374e+03, -8.53934567e+02,\n",
       "        3.31846490e+04,  1.29620367e+04,  3.59006546e+04,  1.00402778e+04,\n",
       "        7.75266655e+03,  4.03441472e+01,  2.65635440e+03,  1.16801414e+04,\n",
       "        5.84146192e+03,  2.93873306e+03,  1.17803274e+04,  7.89597597e+03,\n",
       "        7.10146374e+03,  5.10680320e+03,  3.14869348e+03,  3.19336942e+04,\n",
       "        3.61490742e+03,  8.77576657e+03,  4.81277207e+03,  1.26481331e+04,\n",
       "        1.48407799e+04,  7.30268147e+03,  2.66232789e+04,  1.43171188e+04,\n",
       "        1.73914146e+04,  1.16645770e+04])"
      ]
     },
     "execution_count": 58,
     "metadata": {},
     "output_type": "execute_result"
    }
   ],
   "source": [
    "y_pred=lr.predict(x_test) \n",
    "y_pred"
   ]
  },
  {
   "cell_type": "code",
   "execution_count": 59,
   "id": "24ab4aac",
   "metadata": {},
   "outputs": [
    {
     "name": "stdout",
     "output_type": "stream",
     "text": [
      "[24972.2034132]\n"
     ]
    },
    {
     "name": "stderr",
     "output_type": "stream",
     "text": [
      "C:\\Users\\Ganesh.K\\anaconda3\\lib\\site-packages\\sklearn\\base.py:450: UserWarning: X does not have valid feature names, but LinearRegression was fitted with feature names\n",
      "  warnings.warn(\n"
     ]
    }
   ],
   "source": [
    "from sklearn.metrics import r2_score \n",
    "r2_score (y_test, y_pred)\n",
    "print(lr.predict([[19,1,27.900,0,1,3]]))"
   ]
  },
  {
   "cell_type": "code",
   "execution_count": 60,
   "id": "f6129663",
   "metadata": {},
   "outputs": [],
   "source": [
    "import pickle\n",
    "pickle.dump(lr, open(\"lr.pkl\", \"wb\"))"
   ]
  },
  {
   "cell_type": "code",
   "execution_count": 63,
   "id": "97d4cc5a",
   "metadata": {},
   "outputs": [
    {
     "data": {
      "text/plain": [
       "LinearRegression()"
      ]
     },
     "execution_count": 63,
     "metadata": {},
     "output_type": "execute_result"
    }
   ],
   "source": [
    "model = pickle.load(open(\"reg.pkl\", \"rb\"))\n",
    "model"
   ]
  },
  {
   "cell_type": "code",
   "execution_count": 64,
   "id": "3c960857",
   "metadata": {},
   "outputs": [
    {
     "name": "stderr",
     "output_type": "stream",
     "text": [
      "C:\\Users\\Ganesh.K\\anaconda3\\lib\\site-packages\\sklearn\\base.py:450: UserWarning: X does not have valid feature names, but LinearRegression was fitted with feature names\n",
      "  warnings.warn(\n"
     ]
    },
    {
     "data": {
      "text/plain": [
       "array([24972.2034132])"
      ]
     },
     "execution_count": 64,
     "metadata": {},
     "output_type": "execute_result"
    }
   ],
   "source": [
    "lr.predict([[19,1,27.900,0,1,3]])"
   ]
  },
  {
   "cell_type": "code",
   "execution_count": null,
   "id": "f0858519",
   "metadata": {},
   "outputs": [],
   "source": []
  }
 ],
 "metadata": {
  "kernelspec": {
   "display_name": "Python 3",
   "language": "python",
   "name": "python3"
  },
  "language_info": {
   "codemirror_mode": {
    "name": "ipython",
    "version": 3
   },
   "file_extension": ".py",
   "mimetype": "text/x-python",
   "name": "python",
   "nbconvert_exporter": "python",
   "pygments_lexer": "ipython3",
   "version": "3.11.1 (tags/v3.11.1:a7a450f, Dec  6 2022, 19:58:39) [MSC v.1934 64 bit (AMD64)]"
  },
  "vscode": {
   "interpreter": {
    "hash": "91e1658a4b58f2906e0dfc9191d8c8b4347ab847a7bb308e6c0a5ba03408ce7f"
   }
  }
 },
 "nbformat": 4,
 "nbformat_minor": 5
}
